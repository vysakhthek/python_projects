{
 "cells": [
  {
   "cell_type": "code",
   "execution_count": 1,
   "id": "563462a2",
   "metadata": {
    "scrolled": true
   },
   "outputs": [
    {
     "name": "stdout",
     "output_type": "stream",
     "text": [
      "Requirement already satisfied: textblob in /home/vysakh/anaconda3/lib/python3.9/site-packages (0.17.1)\n",
      "Requirement already satisfied: nltk>=3.1 in /home/vysakh/anaconda3/lib/python3.9/site-packages (from textblob) (3.7)\n",
      "Requirement already satisfied: joblib in /home/vysakh/anaconda3/lib/python3.9/site-packages (from nltk>=3.1->textblob) (1.2.0)\n",
      "Requirement already satisfied: regex>=2021.8.3 in /home/vysakh/anaconda3/lib/python3.9/site-packages (from nltk>=3.1->textblob) (2022.7.9)\n",
      "Requirement already satisfied: click in /home/vysakh/anaconda3/lib/python3.9/site-packages (from nltk>=3.1->textblob) (8.0.4)\n",
      "Requirement already satisfied: tqdm in /home/vysakh/anaconda3/lib/python3.9/site-packages (from nltk>=3.1->textblob) (4.64.1)\n",
      "Note: you may need to restart the kernel to use updated packages.\n"
     ]
    }
   ],
   "source": [
    "pip install textblob"
   ]
  },
  {
   "cell_type": "code",
   "execution_count": 2,
   "id": "9da7f191",
   "metadata": {},
   "outputs": [],
   "source": [
    "from textblob import TextBlob"
   ]
  },
  {
   "cell_type": "code",
   "execution_count": 3,
   "id": "2cba2c66",
   "metadata": {},
   "outputs": [
    {
     "name": "stdout",
     "output_type": "stream",
     "text": [
      "\n",
      "Enter the word to be checked:- asdas\n",
      "original text: asdas\n",
      "corrected text: adams\n",
      "\n",
      "Hope this helped you\n",
      "Do you want to Try Again?: \n",
      "1.yes \n",
      "2.no \n",
      "1\n",
      "\n",
      "Enter the word to be checked:- xfdfsfs\n",
      "original text: xfdfsfs\n",
      "corrected text: xfdfsfs\n",
      "\n",
      "Hope this helped you\n",
      "Do you want to Try Again?: \n",
      "1.yes \n",
      "2.no \n",
      "ere\n",
      "Invalid input. Please enter 1 or 2.\n",
      "Do you want to Try Again?: \n",
      "1.yes \n",
      "2.no \n",
      "sdsd\n",
      "Invalid input. Please enter 1 or 2.\n",
      "Do you want to Try Again?: \n",
      "1.yes \n",
      "2.no \n",
      "2\n",
      "\n",
      "Thank you for using Spell Checker\n"
     ]
    }
   ],
   "source": [
    "tries = 1\n",
    "while tries:\n",
    "    # collecting incorrect spelling text from user\n",
    "    check_text = input(\"\\nEnter the word to be checked:- \") \n",
    "    \n",
    "    #printing original text\n",
    "    print(\"original text: \"+str(check_text)) \n",
    "    \n",
    "    #correcting the text\n",
    "    corrected_text = TextBlob(check_text) \n",
    "    \n",
    "    # prints the corrected spelling\n",
    "    print(\"corrected text: \"+str(corrected_text.correct()))\n",
    "    print(\"\\nHope this helped you\")\n",
    "    while True:\n",
    "        loop = (input(\"Do you want to Try Again?: \\n1.yes \\n2.no \\n\"))\n",
    "        if loop == '2':\n",
    "            tries = 0\n",
    "            break\n",
    "        elif loop == '1':\n",
    "            break\n",
    "        else:\n",
    "            print(\"\\nInvalid input. Please enter 1 or 2.\")\n",
    "else:\n",
    "    print(\"\\nThank you for using Spell Checker\")\n",
    "        "
   ]
  },
  {
   "cell_type": "code",
   "execution_count": null,
   "id": "1795fbc8",
   "metadata": {},
   "outputs": [],
   "source": []
  },
  {
   "cell_type": "code",
   "execution_count": null,
   "id": "6352debe",
   "metadata": {},
   "outputs": [],
   "source": []
  }
 ],
 "metadata": {
  "kernelspec": {
   "display_name": "Python 3 (ipykernel)",
   "language": "python",
   "name": "python3"
  },
  "language_info": {
   "codemirror_mode": {
    "name": "ipython",
    "version": 3
   },
   "file_extension": ".py",
   "mimetype": "text/x-python",
   "name": "python",
   "nbconvert_exporter": "python",
   "pygments_lexer": "ipython3",
   "version": "3.9.13"
  }
 },
 "nbformat": 4,
 "nbformat_minor": 5
}
